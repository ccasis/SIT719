{
 "cells": [
  {
   "cell_type": "markdown",
   "metadata": {},
   "source": [
    "# Experiment with WEKA\n",
    "\n",
    "#developed and created by Adnan Anwar\n",
    "\n",
    "#This week we will use WEKA for experiments. Please see the weekly resources on how to download WEKA. In the class I will share the working mechanisms of kmeans clustering. I will also cover how we can use unsupervised ML like kmeans clustering classification problems to solve an intrusion detection problem. Please follow the class lecturer and weekly resource. Tutors will also demostrate the same thing. Thanks."
   ]
  },
  {
   "cell_type": "code",
   "execution_count": null,
   "metadata": {},
   "outputs": [],
   "source": []
  },
  {
   "cell_type": "code",
   "execution_count": null,
   "metadata": {},
   "outputs": [],
   "source": []
  }
 ],
 "metadata": {
  "kernelspec": {
   "display_name": "Python 3",
   "language": "python",
   "name": "python3"
  },
  "language_info": {
   "codemirror_mode": {
    "name": "ipython",
    "version": 3
   },
   "file_extension": ".py",
   "mimetype": "text/x-python",
   "name": "python",
   "nbconvert_exporter": "python",
   "pygments_lexer": "ipython3",
   "version": "3.7.1"
  }
 },
 "nbformat": 4,
 "nbformat_minor": 2
}
