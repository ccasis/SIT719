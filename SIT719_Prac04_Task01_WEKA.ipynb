{
 "cells": [
  {
   "cell_type": "markdown",
   "metadata": {},
   "source": [
    "# Experiment with WEKA\n",
    "\n",
    "#developed and created by Adnan Anwar\n",
    "\n",
    "#This week we will use WEKA for experiments. Please see the weekly resources on how to download WEKA and how to use WEKA for supervised ML. I will cover how we can use multiclass classification problems as an application to solve an intrusion detection problem. I will demostrate multiclass classification using NSL-KDD datasets. Please follow the class lecturer and weekly resource. Tutors will also demostrate the same thing. Next you need to solve the similar problem as a binary clasification problem. I have also uploaded a vedio that explains the use case. Please see the contents from weekly resources and see my class lecture video. Thanks."
   ]
  },
  {
   "cell_type": "code",
   "execution_count": null,
   "metadata": {},
   "outputs": [],
   "source": []
  },
  {
   "cell_type": "code",
   "execution_count": null,
   "metadata": {},
   "outputs": [],
   "source": []
  }
 ],
 "metadata": {
  "kernelspec": {
   "display_name": "Python 3",
   "language": "python",
   "name": "python3"
  },
  "language_info": {
   "codemirror_mode": {
    "name": "ipython",
    "version": 3
   },
   "file_extension": ".py",
   "mimetype": "text/x-python",
   "name": "python",
   "nbconvert_exporter": "python",
   "pygments_lexer": "ipython3",
   "version": "3.7.1"
  }
 },
 "nbformat": 4,
 "nbformat_minor": 2
}
